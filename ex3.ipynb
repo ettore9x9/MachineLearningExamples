{
  "nbformat": 4,
  "nbformat_minor": 0,
  "metadata": {
    "colab": {
      "provenance": [],
      "mount_file_id": "1cy8Pdy1zJ6gLs18QQXT4hxr1SPDItkXY",
      "authorship_tag": "ABX9TyNBjcWewSbykbpVBg9QJum0",
      "include_colab_link": true
    },
    "kernelspec": {
      "name": "python3",
      "display_name": "Python 3"
    },
    "language_info": {
      "name": "python"
    }
  },
  "cells": [
    {
      "cell_type": "markdown",
      "metadata": {
        "id": "view-in-github",
        "colab_type": "text"
      },
      "source": [
        "<a href=\"https://colab.research.google.com/github/ettore9x9/machine_learning_examples/blob/main/ex3.ipynb\" target=\"_parent\"><img src=\"https://colab.research.google.com/assets/colab-badge.svg\" alt=\"Open In Colab\"/></a>"
      ]
    },
    {
      "cell_type": "code",
      "execution_count": 1,
      "metadata": {
        "id": "h0wM_DI2n0As"
      },
      "outputs": [],
      "source": [
        "import pandas as pd \n",
        "import numpy as np\n",
        "import matplotlib.pyplot as plt\n",
        "from sklearn import preprocessing\n",
        "from random import sample"
      ]
    },
    {
      "cell_type": "code",
      "source": [
        "d1 = 0\n",
        "d2 = 1\n",
        "D1 = pd.read_csv('drive/MyDrive/ML_datasets/MNIST/Mnist%d.csv' %d1)\n",
        "D2 = pd.read_csv('drive/MyDrive/ML_datasets/MNIST/Mnist%d.csv' %d2)\n",
        "D1 = D1.to_numpy()\n",
        "D2 = D2.to_numpy()\n",
        "nl = 100\n",
        "nt = 1000\n",
        "i = sample(range(D1.shape[0]),nl+nt)\n",
        "D1 = D1[i,:]\n",
        "i = sample(range(D2.shape[0]),nl+nt)\n",
        "D2 = D2[i,:]\n",
        "XL = np.concatenate((D1[range(0,nl),:],D2[range(0,nl),:]),axis=0)\n",
        "YL = np.append(-np.ones(nl),np.ones(nl))\n",
        "XT = np.concatenate((D1[range(nl,nl+nt),:],D2[range(nl,nl+nt),:]),axis=0)\n",
        "YT = np.append(-np.ones(nt),np.ones(nt))"
      ],
      "metadata": {
        "id": "rC_NiyPxoAFE"
      },
      "execution_count": 2,
      "outputs": []
    },
    {
      "cell_type": "code",
      "source": [
        "scalerX = preprocessing.MinMaxScaler()\n",
        "XL = scalerX.fit_transform(XL)\n",
        "XT = scalerX.transform(XT)"
      ],
      "metadata": {
        "id": "Q5Flwp9eoYfA"
      },
      "execution_count": 3,
      "outputs": []
    },
    {
      "cell_type": "code",
      "source": [
        "i = 0\n",
        "fig = plt.figure()\n",
        "tmp = np.reshape(XT[i,:],(28,28))\n",
        "plt.imshow(tmp,cmap='gray')\n",
        "plt.colorbar()"
      ],
      "metadata": {
        "colab": {
          "base_uri": "https://localhost:8080/",
          "height": 282
        },
        "id": "5BXn5RvuoeDR",
        "outputId": "f7bbb522-b8e3-4ba0-a275-3105ccdec94d"
      },
      "execution_count": 4,
      "outputs": [
        {
          "output_type": "execute_result",
          "data": {
            "text/plain": [
              "<matplotlib.colorbar.Colorbar at 0x7f4d9cf61410>"
            ]
          },
          "metadata": {},
          "execution_count": 4
        },
        {
          "output_type": "display_data",
          "data": {
            "text/plain": [
              "<Figure size 432x288 with 2 Axes>"
            ],
            "image/png": "[encoded data removed]"
          },
          "metadata": {
            "needs_background": "light"
          }
        }
      ]
    },
    {
      "cell_type": "code",
      "source": [
        "from sklearn.linear_model import Ridge\n",
        "from sklearn.metrics import confusion_matrix\n",
        "alpha = .01\n",
        "M = Ridge(alpha = alpha)\n",
        "M.fit(XL,YL)\n",
        "YP = M.predict(XT)\n",
        "YP[YP <= 0] = -1\n",
        "YP[YP  > 0] = +1\n",
        "confusion_matrix(YT,YP)"
      ],
      "metadata": {
        "colab": {
          "base_uri": "https://localhost:8080/"
        },
        "id": "OhrWM3bqo0wK",
        "outputId": "2b36fd3c-ba74-4896-9650-23fab2c25d50"
      },
      "execution_count": 5,
      "outputs": [
        {
          "output_type": "execute_result",
          "data": {
            "text/plain": [
              "array([[977,  23],\n",
              "       [  8, 992]])"
            ]
          },
          "metadata": {},
          "execution_count": 5
        }
      ]
    },
    {
      "cell_type": "code",
      "source": [
        "fig = plt.figure()\n",
        "tmp = np.reshape(M.coef_,(28,28))\n",
        "plt.imshow(tmp)\n",
        "plt.colorbar()"
      ],
      "metadata": {
        "colab": {
          "base_uri": "https://localhost:8080/",
          "height": 285
        },
        "id": "T4rQqei2qiSj",
        "outputId": "1adcf3bb-74ca-494e-d78a-0f168f801a37"
      },
      "execution_count": 6,
      "outputs": [
        {
          "output_type": "execute_result",
          "data": {
            "text/plain": [
              "<matplotlib.colorbar.Colorbar at 0x7f4d99cf0450>"
            ]
          },
          "metadata": {},
          "execution_count": 6
        },
        {
          "output_type": "display_data",
          "data": {
            "text/plain": [
              "<Figure size 432x288 with 2 Axes>"
            ],
            "image/png": "[encoded data removed]"
          },
          "metadata": {
            "needs_background": "light"
          }
        }
      ]
    },
    {
      "cell_type": "code",
      "source": [
        "from sklearn.linear_model import Lasso\n",
        "from sklearn.metrics import confusion_matrix\n",
        "\n",
        "alpha = .01\n",
        "M = Lasso(alpha = alpha)\n",
        "M.fit(XL,YL)\n",
        "YP = M.predict(XT)\n",
        "YP[YP <= 0] = -1\n",
        "YP[YP  > 0] = +1\n",
        "confusion_matrix(YT,YP)"
      ],
      "metadata": {
        "colab": {
          "base_uri": "https://localhost:8080/"
        },
        "id": "4h7vELrxruBc",
        "outputId": "f5ef021f-6040-4831-d5d3-5e8384e4d82f"
      },
      "execution_count": 7,
      "outputs": [
        {
          "output_type": "execute_result",
          "data": {
            "text/plain": [
              "array([[989,  11],\n",
              "       [ 21, 979]])"
            ]
          },
          "metadata": {},
          "execution_count": 7
        }
      ]
    },
    {
      "cell_type": "code",
      "source": [
        "fig = plt.figure()\n",
        "tmp = np.reshape(M.coef_,(28,28))\n",
        "plt.imshow(tmp)\n",
        "plt.colorbar()"
      ],
      "metadata": {
        "colab": {
          "base_uri": "https://localhost:8080/",
          "height": 282
        },
        "id": "9A64EyxHr6Dc",
        "outputId": "160dec12-e5db-4614-e02b-50343fe5c63d"
      },
      "execution_count": 8,
      "outputs": [
        {
          "output_type": "execute_result",
          "data": {
            "text/plain": [
              "<matplotlib.colorbar.Colorbar at 0x7f4d99bba550>"
            ]
          },
          "metadata": {},
          "execution_count": 8
        },
        {
          "output_type": "display_data",
          "data": {
            "text/plain": [
              "<Figure size 432x288 with 2 Axes>"
            ],
            "image/png": "[encoded data removed]"
          },
          "metadata": {
            "needs_background": "light"
          }
        }
      ]
    },
    {
      "cell_type": "code",
      "source": [],
      "metadata": {
        "id": "qVjYT_CDr-C3"
      },
      "execution_count": 8,
      "outputs": []
    }
  ]
}