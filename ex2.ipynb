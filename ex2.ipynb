{
  "nbformat": 4,
  "nbformat_minor": 0,
  "metadata": {
    "colab": {
      "provenance": [],
      "mount_file_id": "10FvdVJlP3SNt1YRgC2y_srbVefwgA3ex",
      "authorship_tag": "ABX9TyPwsbHQD3ErwnZJsCJ1rIKL",
      "include_colab_link": true
    },
    "kernelspec": {
      "name": "python3",
      "display_name": "Python 3"
    },
    "language_info": {
      "name": "python"
    }
  },
  "cells": [
    {
      "cell_type": "markdown",
      "metadata": {
        "id": "view-in-github",
        "colab_type": "text"
      },
      "source": [
        "<a href=\"https://colab.research.google.com/github/ettore9x9/machine_learning_examples/blob/main/ex2.ipynb\" target=\"_parent\"><img src=\"https://colab.research.google.com/assets/colab-badge.svg\" alt=\"Open In Colab\"/></a>"
      ]
    },
    {
      "cell_type": "code",
      "source": [
        "#CRIME\n",
        "import pandas as pd \n",
        "import numpy as np\n",
        "import matplotlib.pyplot as plt\n",
        "from sklearn import preprocessing\n",
        "from sklearn.kernel_ridge import KernelRidge\n",
        "from sklearn.model_selection import GridSearchCV"
      ],
      "metadata": {
        "id": "HN30Tu1lkG33"
      },
      "execution_count": 1,
      "outputs": []
    },
    {
      "cell_type": "code",
      "source": [
        "ix = range(0,247)\n",
        "iy = 247\n",
        "L = pd.read_csv('drive/MyDrive/ML_datasets/CRIME/L.csv')\n",
        "T = pd.read_csv('drive/MyDrive/ML_datasets/CRIME/T.csv')\n",
        "L = L.to_numpy()\n",
        "T = T.to_numpy()\n",
        "XL = L[:,ix]\n",
        "YL = L[:,iy]\n",
        "XT = T[:,ix]\n",
        "YT = T[:,iy]"
      ],
      "metadata": {
        "id": "grYI8PzkkTA_"
      },
      "execution_count": 2,
      "outputs": []
    },
    {
      "cell_type": "code",
      "execution_count": 3,
      "metadata": {
        "colab": {
          "base_uri": "https://localhost:8080/"
        },
        "id": "QFB0uyLohn9V",
        "outputId": "e48882a0-9d8b-45e6-a85a-4573e4f5fd79"
      },
      "outputs": [
        {
          "output_type": "stream",
          "name": "stdout",
          "text": [
            "0.08063487861180049\n"
          ]
        }
      ],
      "source": [
        "scalerX = preprocessing.MinMaxScaler()\n",
        "XL = scalerX.fit_transform(XL)\n",
        "XT = scalerX.transform(XT)\n",
        "\n",
        "grid = {'alpha': np.logspace(-4,3,5),\n",
        "        'kernel': ['rbf'],\n",
        "        'gamma': np.logspace(-4,3,5)}\n",
        "MS = GridSearchCV(estimator = KernelRidge(),\n",
        "                  param_grid = grid,\n",
        "                  scoring = 'neg_mean_absolute_error',\n",
        "                  cv = 10,\n",
        "                  verbose = 0)\n",
        "H = MS.fit(XL,YL)\n",
        "\n",
        "M = KernelRidge(alpha = H.best_params_['alpha'],\n",
        "                kernel = H.best_params_['kernel'], \n",
        "                gamma = H.best_params_['gamma'])\n",
        "M.fit(XL,YL)\n",
        "\n",
        "YP = M.predict(XT)\n",
        "err = np.mean(np.abs(YT-YP))\n",
        "print(err)"
      ]
    },
    {
      "cell_type": "code",
      "source": [
        "fig, ax = plt.subplots()\n",
        "ax.plot(YT,YP,'bo')\n",
        "tmp = [np.min(YT),np.max(YT)]\n",
        "ax.plot(tmp,tmp,'r')"
      ],
      "metadata": {
        "colab": {
          "base_uri": "https://localhost:8080/",
          "height": 282
        },
        "id": "u4j6PrcdnsxQ",
        "outputId": "4195ac67-14a0-42e0-b7d6-71467e8b4f4c"
      },
      "execution_count": 4,
      "outputs": [
        {
          "output_type": "execute_result",
          "data": {
            "text/plain": [
              "[<matplotlib.lines.Line2D at 0x7f69b16e91d0>]"
            ]
          },
          "metadata": {},
          "execution_count": 4
        },
        {
          "output_type": "display_data",
          "data": {
            "text/plain": [
              "<Figure size 432x288 with 1 Axes>"
            ],
            "image/png": "[encoded data removed]"
          },
          "metadata": {
            "needs_background": "light"
          }
        }
      ]
    },
    {
      "cell_type": "code",
      "source": [],
      "metadata": {
        "id": "G6fHk6dpixOH"
      },
      "execution_count": 4,
      "outputs": []
    }
  ]
}