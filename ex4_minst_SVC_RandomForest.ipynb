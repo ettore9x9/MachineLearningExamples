{
  "nbformat": 4,
  "nbformat_minor": 0,
  "metadata": {
    "colab": {
      "provenance": [],
      "mount_file_id": "1ap0oqtxZCafOUzG0yDyQRghTCzWoFJcb",
      "authorship_tag": "ABX9TyO2TVrv1DLgM7AxKIPH1YHL",
      "include_colab_link": true
    },
    "kernelspec": {
      "name": "python3",
      "display_name": "Python 3"
    },
    "language_info": {
      "name": "python"
    }
  },
  "cells": [
    {
      "cell_type": "markdown",
      "metadata": {
        "id": "view-in-github",
        "colab_type": "text"
      },
      "source": [
        "<a href=\"https://colab.research.google.com/github/ettore9x9/machine_learning_examples/blob/main/ex4.ipynb\" target=\"_parent\"><img src=\"https://colab.research.google.com/assets/colab-badge.svg\" alt=\"Open In Colab\"/></a>"
      ]
    },
    {
      "cell_type": "code",
      "execution_count": 1,
      "metadata": {
        "id": "rdgopP7otQta"
      },
      "outputs": [],
      "source": [
        "import pandas as pd \n",
        "import numpy as np\n",
        "import matplotlib.pyplot as plt\n",
        "from sklearn import preprocessing\n",
        "from random import sample"
      ]
    },
    {
      "cell_type": "code",
      "source": [
        "folder = 'drive/MyDrive/ML_datasets/MNIST/'\n",
        "nl = 300\n",
        "nt = 100\n",
        "for i in range(0,10):\n",
        "  file = folder + 'Mnist%d.csv' %i\n",
        "  D = pd.read_csv(file).to_numpy()\n",
        "  j = sample(range(D.shape[0]),nl+nt)\n",
        "  D = D[j,:]\n",
        "  if (i == 0):\n",
        "    XL = D[range(0,nl),:]\n",
        "    YL = i*np.ones(nl)\n",
        "    XT = D[range(nl,nl+nt),:]\n",
        "    YT = i*np.ones(nt)\n",
        "  else:\n",
        "    XL = np.concatenate((XL,D[range(0,nl),:]),axis=0)\n",
        "    YL = np.append(YL,i*np.ones(nl))\n",
        "    XT = np.concatenate((XT,D[range(nl,nl+nt),:]),axis=0)\n",
        "    YT = np.append(YT,i*np.ones(nt))"
      ],
      "metadata": {
        "id": "r0jS7VIftaP7"
      },
      "execution_count": 2,
      "outputs": []
    },
    {
      "cell_type": "code",
      "source": [
        "scalerX = preprocessing.MinMaxScaler()\n",
        "XL = scalerX.fit_transform(XL)\n",
        "XT = scalerX.transform(XT)"
      ],
      "metadata": {
        "id": "zZMpAzOFuyNn"
      },
      "execution_count": 3,
      "outputs": []
    },
    {
      "cell_type": "code",
      "source": [
        "from sklearn.model_selection import GridSearchCV\n",
        "from sklearn.svm import SVC\n",
        "from sklearn.metrics import confusion_matrix\n",
        "\n",
        "grid = {'C': np.logspace(-4,3,5),\n",
        "        'kernel': ['linear']}\n",
        "\n",
        "MS = GridSearchCV(estimator = SVC(),\n",
        "                  param_grid = grid,\n",
        "                  scoring = 'balanced_accuracy',\n",
        "                  cv = 10,\n",
        "                  verbose = 0)\n",
        "H = MS.fit(XL,YL)\n",
        "\n",
        "M = SVC(C = H.best_params_['C'],\n",
        "        kernel = H.best_params_['kernel'])\n",
        "M.fit(XL,YL)\n",
        "\n",
        "YP = M.predict(XT)\n",
        "\n",
        "confusion_matrix(YT,YP)"
      ],
      "metadata": {
        "colab": {
          "base_uri": "https://localhost:8080/"
        },
        "id": "KjKiteu6vACP",
        "outputId": "e349f2a6-ebff-46af-a58e-b421bc69118c"
      },
      "execution_count": 4,
      "outputs": [
        {
          "output_type": "execute_result",
          "data": {
            "text/plain": [
              "array([[98,  0,  0,  0,  1,  0,  0,  0,  1,  0],\n",
              "       [ 0, 99,  0,  1,  0,  0,  0,  0,  0,  0],\n",
              "       [ 0,  1, 86,  2,  1,  1,  3,  3,  2,  1],\n",
              "       [ 0,  0,  5, 91,  0,  2,  1,  1,  0,  0],\n",
              "       [ 0,  0,  2,  0, 94,  0,  0,  0,  0,  4],\n",
              "       [ 2,  3,  1,  5,  0, 89,  0,  0,  0,  0],\n",
              "       [ 0,  0,  1,  0,  2,  4, 93,  0,  0,  0],\n",
              "       [ 1,  2,  1,  0,  0,  0,  0, 91,  1,  4],\n",
              "       [ 0,  3,  1,  1,  2,  5,  2,  0, 86,  0],\n",
              "       [ 2,  0,  1,  3,  1,  0,  0,  5,  1, 87]])"
            ]
          },
          "metadata": {},
          "execution_count": 4
        }
      ]
    },
    {
      "cell_type": "code",
      "source": [
        "from sklearn.ensemble import RandomForestClassifier\n",
        "M = RandomForestClassifier(n_estimators = 1000)\n",
        "M.fit(XL,YL)\n",
        "YP = M.predict(XT)\n",
        "confusion_matrix(YT,YP)"
      ],
      "metadata": {
        "colab": {
          "base_uri": "https://localhost:8080/"
        },
        "id": "Bx95pnapwNtY",
        "outputId": "3950eec4-b75d-4490-91bb-85f15f13c0ea"
      },
      "execution_count": 5,
      "outputs": [
        {
          "output_type": "execute_result",
          "data": {
            "text/plain": [
              "array([[97,  0,  0,  0,  0,  0,  2,  0,  1,  0],\n",
              "       [ 0, 98,  0,  0,  0,  0,  0,  0,  2,  0],\n",
              "       [ 0,  0, 92,  2,  1,  1,  2,  1,  1,  0],\n",
              "       [ 0,  0,  3, 93,  0,  2,  1,  1,  0,  0],\n",
              "       [ 0,  0,  1,  0, 96,  0,  0,  0,  0,  3],\n",
              "       [ 1,  2,  1,  3,  0, 92,  0,  0,  1,  0],\n",
              "       [ 0,  0,  0,  0,  0,  2, 98,  0,  0,  0],\n",
              "       [ 2,  2,  2,  0,  0,  0,  0, 91,  0,  3],\n",
              "       [ 0,  1,  0,  0,  0,  3,  3,  0, 93,  0],\n",
              "       [ 3,  0,  1,  3,  3,  0,  0,  2,  0, 88]])"
            ]
          },
          "metadata": {},
          "execution_count": 5
        }
      ]
    },
    {
      "cell_type": "code",
      "source": [],
      "metadata": {
        "id": "6-2xB6jeylnT"
      },
      "execution_count": null,
      "outputs": []
    }
  ]
}
